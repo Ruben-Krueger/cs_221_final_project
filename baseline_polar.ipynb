{
 "cells": [
  {
   "cell_type": "code",
   "execution_count": 14,
   "metadata": {},
   "outputs": [],
   "source": [
    "import sklearn\n",
    "import pandas as pd\n",
    "import numpy as np\n",
    "import seaborn as sb\n",
    "import matplotlib.pyplot as plt\n",
    "from collections import Counter\n",
    "from sklearn.linear_model import LinearRegression\n",
    "from sklearn.model_selection import train_test_split "
   ]
  },
  {
   "cell_type": "code",
   "execution_count": 12,
   "metadata": {},
   "outputs": [
    {
     "name": "stdout",
     "output_type": "stream",
     "text": [
      "RangeIndex(start=0, stop=36, step=1)\n"
     ]
    }
   ],
   "source": [
    "# read the data\n",
    "df = pd.read_csv('data/data.csv',header=0)\n",
    "\n",
    "POLAR_AMINO_ACIDS = ['D', 'E', 'K', 'R', 'H', 'S', 'T', 'Q', 'N', 'Y']\n",
    "NON_POLAR_AMINO_ACIDS = ['A', 'V', 'L', 'I', 'M', 'F', 'W']\n",
    "SPECIAL_AMINO_ACIDS = ['G', 'C', 'P']\n",
    "\n",
    "POLAR_KEY = \"polar\"\n",
    "NON_POLAR_KEY = \"nonpolar\"\n",
    "SPECIAL_KEY = \"special\"\n",
    "\n",
    "print(df.index)\n",
    "# MARK:- BASELINE 2\n",
    "counts = {}\n",
    "for i in range(len(df.index)):\n",
    "    \n",
    "    individual_counts = {\n",
    "        POLAR_KEY : 0,\n",
    "        NON_POLAR_KEY : 0,\n",
    "        SPECIAL_KEY : 0,\n",
    "    }\n",
    "    \n",
    "    seq = df.iloc[i, 2]\n",
    "    \n",
    "    for j in range(len(seq)):\n",
    "        if seq[j] in POLAR_AMINO_ACIDS:\n",
    "            individual_counts[POLAR_KEY] += 1\n",
    "        elif seq[j] in NON_POLAR_AMINO_ACIDS:\n",
    "            individual_counts[NON_POLAR_KEY] += 1\n",
    "        elif seq[j] in SPECIAL_AMINO_ACIDS:\n",
    "            individual_counts[SPECIAL_KEY] += 1\n",
    "\n",
    "    for key in individual_counts.keys():\n",
    "        df.at[i, key] = individual_counts[key]\n",
    "    \n",
    "# fill all NaN's with 0 \n",
    "df = df.fillna(0)\n",
    "\n",
    "protein_names = df['protein']"
   ]
  },
  {
   "cell_type": "code",
   "execution_count": 15,
   "metadata": {},
   "outputs": [],
   "source": [
    "# split into test and train data\n",
    "y = df['tm']\n",
    "X = df.drop(['sequence', 'tm', 'protein'], axis=1)\n",
    "\n",
    "xTrain, xTest, yTrain, yTest = train_test_split(X, y, test_size = 1/5, random_state = 0)"
   ]
  },
  {
   "cell_type": "code",
   "execution_count": 10,
   "metadata": {},
   "outputs": [
    {
     "data": {
      "text/plain": [
       "LinearRegression(copy_X=True, fit_intercept=True, n_jobs=1, normalize=False)"
      ]
     },
     "execution_count": 10,
     "metadata": {},
     "output_type": "execute_result"
    }
   ],
   "source": [
    "# fit the model \n",
    "lr = LinearRegression()\n",
    "lr.fit(xTrain, yTrain)"
   ]
  },
  {
   "cell_type": "code",
   "execution_count": 11,
   "metadata": {},
   "outputs": [
    {
     "data": {
      "text/plain": [
       "0.0052008911424533677"
      ]
     },
     "execution_count": 11,
     "metadata": {},
     "output_type": "execute_result"
    }
   ],
   "source": [
    "# check accuracy \n",
    "lr.score(xTest, yTest)"
   ]
  },
  {
   "cell_type": "code",
   "execution_count": 13,
   "metadata": {},
   "outputs": [
    {
     "ename": "NameError",
     "evalue": "name 'lr' is not defined",
     "output_type": "error",
     "traceback": [
      "\u001b[0;31m---------------------------------------------------------------------------\u001b[0m",
      "\u001b[0;31mNameError\u001b[0m                                 Traceback (most recent call last)",
      "\u001b[0;32m<ipython-input-13-5ffde790945a>\u001b[0m in \u001b[0;36m<module>\u001b[0;34m\u001b[0m\n\u001b[0;32m----> 1\u001b[0;31m \u001b[0mdata_y_pred\u001b[0m \u001b[0;34m=\u001b[0m \u001b[0mlr\u001b[0m\u001b[0;34m.\u001b[0m\u001b[0mpredict\u001b[0m\u001b[0;34m(\u001b[0m\u001b[0mxTest\u001b[0m\u001b[0;34m)\u001b[0m\u001b[0;34m\u001b[0m\u001b[0m\n\u001b[0m\u001b[1;32m      2\u001b[0m \u001b[0mprint\u001b[0m\u001b[0;34m(\u001b[0m\u001b[0mdata_y_pred\u001b[0m\u001b[0;34m)\u001b[0m\u001b[0;34m\u001b[0m\u001b[0m\n\u001b[1;32m      3\u001b[0m \u001b[0;31m#plt.scatter(xTest, yTest, color='black')\u001b[0m\u001b[0;34m\u001b[0m\u001b[0;34m\u001b[0m\u001b[0m\n",
      "\u001b[0;31mNameError\u001b[0m: name 'lr' is not defined"
     ]
    }
   ],
   "source": [
    "data_y_pred = lr.predict(xTest)\n",
    "print(data_y_pred)\n",
    "#plt.scatter(xTest, yTest, color='black')"
   ]
  },
  {
   "cell_type": "code",
   "execution_count": null,
   "metadata": {},
   "outputs": [],
   "source": []
  },
  {
   "cell_type": "code",
   "execution_count": null,
   "metadata": {},
   "outputs": [],
   "source": []
  }
 ],
 "metadata": {
  "kernelspec": {
   "display_name": "Python [default]",
   "language": "python",
   "name": "python3"
  },
  "language_info": {
   "codemirror_mode": {
    "name": "ipython",
    "version": 3
   },
   "file_extension": ".py",
   "mimetype": "text/x-python",
   "name": "python",
   "nbconvert_exporter": "python",
   "pygments_lexer": "ipython3",
   "version": "3.6.6"
  }
 },
 "nbformat": 4,
 "nbformat_minor": 2
}
