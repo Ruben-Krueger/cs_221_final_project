{
 "cells": [
  {
   "cell_type": "code",
   "execution_count": null,
   "metadata": {},
   "outputs": [],
   "source": [
    "import sklearn\n",
    "import pandas as pd\n",
    "import numpy as np\n",
    "import math\n",
    "import seaborn as sb\n",
    "import matplotlib.pyplot as plt\n",
    "from collections import Counter\n",
    "from sklearn.linear_model import LinearRegression\n",
    "from sklearn.model_selection import train_test_split "
   ]
  },
  {
   "cell_type": "code",
   "execution_count": null,
   "metadata": {},
   "outputs": [],
   "source": [
    "\"\"\"\n",
    "Checks n-grams of amino-acids and correlates these n-grams to melting temperature.\n",
    "\n",
    "Sources Used: https://scikit-learn.org/stable/documentation.html\n",
    "\"\"\"\n",
    "# Read the data\n",
    "df = pd.read_csv('data.csv',header=0)\n",
    "\n",
    "GROUP_SIZE = 1\n",
    "print(\"Am I even running?\")\n",
    "print(df.index)\n",
    "# MARK:- BASELINE 2\n",
    "counts = {}\n",
    "for i in range(len(df.index)):\n",
    "    individual_counts = {}\n",
    "    \n",
    "    seq = df.iloc[i, 2]\n",
    "    if isinstance(seq, float):\n",
    "        continue\n",
    "    print(seq)\n",
    "    print(math.isnan(len(seq)))\n",
    "    for j in range(len(seq)):\n",
    "        if j > len(seq) - GROUP_SIZE: break\n",
    "        if individual_counts.get(seq[j:j+GROUP_SIZE], None) is None:\n",
    "            individual_counts[seq[j:j+GROUP_SIZE]] = 1\n",
    "        else: \n",
    "            individual_counts[seq[j:j+GROUP_SIZE]] += 1\n",
    "    for key in individual_counts.keys():\n",
    "        df.at[i, key] = individual_counts[key]\n",
    "    \n",
    "# Fill all NaN's with 0 \n",
    "df = df.fillna(0)\n",
    "\n",
    "protein_names = df['protein']"
   ]
  },
  {
   "cell_type": "code",
   "execution_count": null,
   "metadata": {},
   "outputs": [],
   "source": [
    "# Split into test and train data\n",
    "y = df['tm']\n",
    "X = df.drop(['sequence', 'tm', 'protein'], axis=1)\n",
    "print(df)\n",
    "\n",
    "xTrain, xTest, yTrain, yTest = train_test_split(X, y, test_size = 1/5, random_state = 0)"
   ]
  },
  {
   "cell_type": "code",
   "execution_count": null,
   "metadata": {},
   "outputs": [],
   "source": [
    "# Fit the model \n",
    "lr = LinearRegression()\n",
    "lr.fit(xTrain, yTrain)"
   ]
  },
  {
   "cell_type": "code",
   "execution_count": null,
   "metadata": {},
   "outputs": [],
   "source": [
    "# Check accuracy \n",
    "lr.score(xTest, yTest)"
   ]
  },
  {
   "cell_type": "code",
   "execution_count": null,
   "metadata": {
    "collapsed": true
   },
   "outputs": [],
   "source": []
  },
  {
   "cell_type": "code",
   "execution_count": null,
   "metadata": {
    "collapsed": true
   },
   "outputs": [],
   "source": []
  }
 ],
 "metadata": {
  "kernelspec": {
   "display_name": "Python 3",
   "language": "python",
   "name": "python3"
  },
  "language_info": {
   "codemirror_mode": {
    "name": "ipython",
    "version": 3
   },
   "file_extension": ".py",
   "mimetype": "text/x-python",
   "name": "python",
   "nbconvert_exporter": "python",
   "pygments_lexer": "ipython3",
   "version": "3.6.8"
  }
 },
 "nbformat": 4,
 "nbformat_minor": 2
}
