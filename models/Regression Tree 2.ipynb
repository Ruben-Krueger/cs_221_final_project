{
 "cells": [
  {
   "cell_type": "code",
   "execution_count": 633,
   "metadata": {},
   "outputs": [],
   "source": [
    "import os\n",
    "import io\n",
    "import numpy as np\n",
    "import sklearn\n",
    "import sklearn.model_selection\n",
    "from sklearn.tree import DecisionTreeClassifier\n",
    "from sklearn.tree import DecisionTreeRegressor\n",
    "from sklearn.tree import export_graphviz\n",
    "from sklearn.metrics import accuracy_score\n",
    "import pandas as pd\n",
    "import collections\n",
    "import matplotlib.pyplot as plt\n",
    "import pydotplus\n",
    "#import graphviz as g\n",
    "\n",
    "#Model taken from https://www.geeksforgeeks.org/python-decision-tree-regression-using-sklearn/\n"
   ]
  },
  {
   "cell_type": "code",
   "execution_count": 634,
   "metadata": {},
   "outputs": [],
   "source": [
    "## Import and prepare data\n",
    "\n",
    "df=pd.read_csv('data_full.csv')\n",
    "\n",
    "#print(df) #Uncomment to see imported data"
   ]
  },
  {
   "cell_type": "code",
   "execution_count": 635,
   "metadata": {},
   "outputs": [],
   "source": [
    "# Divide data into testing and training sets\n",
    "X = df.drop(['tm'], axis=1)\n",
    "Y = df['tm']\n",
    "xTrain, xTest, yTrain, yTest, = sk.model_selection.train_test_split(X, Y, test_size = 1/5, random_state = 0)\n"
   ]
  },
  {
   "cell_type": "code",
   "execution_count": 641,
   "metadata": {},
   "outputs": [],
   "source": [
    "## Features taken from Ruben's NN model + baseline + others\n",
    "\n",
    "# Add features to training data\n",
    "for index, row in xTrain.iterrows():\n",
    "    sequence = row[1]\n",
    "    counts = collections.Counter(sequence)\n",
    "    # Length feature\n",
    "    xTrain.at[index, 'Length'] = len(sequence)\n",
    "    \n",
    "    # add (E + K)/(Q + H) ratio feature\n",
    "    \n",
    "    if (counts['Q'] + counts['H']) != 0:\n",
    "        xTrain.at[index, '(E + K)/(Q + H)'] = (counts['E'] + counts['K']) /(counts['Q'] + counts['H'])\n",
    "    else:\n",
    "        xTrain.at[index, '(E + K)/(Q + H)'] = 0  \n",
    "    \n",
    "    for key in counts.keys():\n",
    "        continue\n",
    "        xTrain.at[index, \"num \" + key] = counts[key]\n",
    "        xTrain.at[index, \"presence \" + key] = 1\n",
    "        \n",
    "xTrain = xTrain.fillna(0)\n",
    "\n",
    "#Make a list of all features\n",
    "featureNames = []\n",
    "featureValues = {}\n",
    "for feature in xTrain.columns.tolist()[2:]:\n",
    "    featureNames.append(feature)\n",
    "for feature in featureNames:\n",
    "    featureValues[feature] = xTrain[feature]\n",
    "    \n",
    "#print(featureNames)\n",
    "\n",
    "#print(featureValues['Length'].tolist()) #Uncomment to see features and values for training data"
   ]
  },
  {
   "cell_type": "code",
   "execution_count": 642,
   "metadata": {},
   "outputs": [],
   "source": [
    "# Extract features from sequence\n",
    "def extractSeqFeatures(sequence, features):\n",
    "    sequenceDF = pd.DataFrame()\n",
    "    counts = collections.Counter(sequence)\n",
    "    # Length feature\n",
    "    sequenceDF.at[index, 'Length'] = len(sequence)\n",
    "    \n",
    "    # add (E + K)/(Q + H) ratio feature\n",
    "    if (counts['Q'] + counts['H']) != 0:\n",
    "        sequenceDF.at[index, '(E + K)/(Q + H)'] = (counts['E'] + counts['K']) /(counts['Q'] + counts['H'])\n",
    "    else:\n",
    "        sequenceDF.at[index, '(E + K)/(Q + H)'] = 0  \n",
    "        \n",
    "    for key in counts.keys():\n",
    "        if \"num \" + key in featureNames:\n",
    "            sequenceDF.at[index, \"num \" + key] = counts[key]\n",
    "        if \"presence \" + key in featureNames:\n",
    "            sequenceDF.at[index, \"presence \" + key] = 1\n",
    "    \n",
    "    # Fill out features not found\n",
    "    for name in featureNames:\n",
    "        if name not in sequenceDF.columns.values:\n",
    "            sequenceDF.at[index, name] = 0.0\n",
    "            \n",
    "    sequenceDF = sequenceDF.fillna(0)\n",
    "    return sequenceDF    "
   ]
  },
  {
   "cell_type": "code",
   "execution_count": 643,
   "metadata": {},
   "outputs": [
    {
     "name": "stdout",
     "output_type": "stream",
     "text": [
      "[336, 360, 331, 327, 360, 363, 343, 343, 338, 330, 368, 340, 335, 346, 377, 349, 361, 359, 331, 338, 338, 326, 330, 363, 341, 360, 342, 317, 334, 336, 326, 341, 316, 322, 319, 325, 351, 346, 339, 360, 331, 357, 327, 363, 330, 345, 338, 321, 338]\n",
      "[342, 333, 340, 337, 329, 327, 330, 326, 337, 328, 347, 343, 326, 346, 327, 339, 333, 362, 320, 364, 298, 356, 361, 337, 298, 323, 337, 346, 324, 298, 315, 337, 334, 366, 361, 324, 361, 317, 339, 377, 325, 334, 334, 363, 339, 348, 325, 315, 298]\n",
      "Accuracy is:  0.061224489795918366\n"
     ]
    }
   ],
   "source": [
    "from sklearn.tree import DecisionTreeRegressor\n",
    "\n",
    "# Create tree\n",
    "rTree = DecisionTreeRegressor(criterion='mse')\n",
    "\n",
    "# Make list of training features data\n",
    "#print(xTrain)\n",
    "XTrainFeatures = []\n",
    "for row in xTrain.iterrows():\n",
    "    index, data = row\n",
    "    XTrainFeatures.append(data.tolist()[2:]) # Starting from 2 so that name and sequence not in list\n",
    "\n",
    "#print(XTrainFeatures)\n",
    "#print(YTrainTargets)\n",
    "YTrainTargets = yTrain.tolist()\n",
    "\n",
    "# Fit tree according to features\n",
    "rTree = rTree.fit(XTrainFeatures, YTrainTargets)\n",
    "\n",
    "#print(XTrainFeatures)\n",
    "prediction = rTree.predict([XTrainFeatures[8]])\n",
    "\n",
    "# Update testing dataset\n",
    "XTestFeatures = []\n",
    "#print(xTest)\n",
    "for row in xTest.iterrows():\n",
    "    index, data = row\n",
    "    sequence = data[1]\n",
    "    featuresDF = extractSeqFeatures(sequence, featureNames)\n",
    "    XTestFeatures.append(featuresDF.values.tolist())\n",
    "\n",
    "y_Pred = []\n",
    "for data in XTestFeatures:\n",
    "    prediction_Tm = rTree.predict(data)\n",
    "    y_Pred.append(prediction_Tm[0])\n",
    "\n",
    "#print(y_Pred)\n",
    "\n",
    "yTestList =[int(i) for i in yTest.tolist()]\n",
    "yPredList = [int(i) for i in y_Pred]\n",
    "print(yTestList)\n",
    "print(yPredList)\n",
    "print(\"Accuracy is: \", accuracy_score(yTestList, yPredList))"
   ]
  },
  {
   "cell_type": "code",
   "execution_count": 644,
   "metadata": {},
   "outputs": [
    {
     "data": {
      "image/png": "[encoded data removed]",
      "text/plain": [
       "<Figure size 432x288 with 1 Axes>"
      ]
     },
     "metadata": {
      "needs_background": "light"
     },
     "output_type": "display_data"
    }
   ],
   "source": [
    "import random\n",
    "# Plot the results\n",
    "plt.figure()\n",
    "#print(df['protein'].tolist())\n",
    "plt.scatter(yTestList, y_Pred, edgecolor=\"black\",\n",
    "            c=\"cornflowerblue\", label=\"Predicted\")\n",
    "plt.scatter(yTestList, yTestList, s=20, edgecolor=\"black\",\n",
    "            c=\"darkorange\", label=\"Actual\")\n",
    "\n",
    "#print(XTrainFeatures)\n",
    "#print(y_Pred)\n",
    "plt.xlabel(\"data\")\n",
    "plt.ylabel(\"target\")\n",
    "plt.title(\"Regression Tree for Prediction of Tm\")\n",
    "plt.legend()\n",
    "plt.show()"
   ]
  },
  {
   "cell_type": "code",
   "execution_count": null,
   "metadata": {},
   "outputs": [],
   "source": []
  },
  {
   "cell_type": "code",
   "execution_count": null,
   "metadata": {},
   "outputs": [],
   "source": []
  }
 ],
 "metadata": {
  "kernelspec": {
   "display_name": "Python 3",
   "language": "python",
   "name": "python3"
  },
  "language_info": {
   "codemirror_mode": {
    "name": "ipython",
    "version": 3
   },
   "file_extension": ".py",
   "mimetype": "text/x-python",
   "name": "python",
   "nbconvert_exporter": "python",
   "pygments_lexer": "ipython3",
   "version": "3.7.3"
  }
 },
 "nbformat": 4,
 "nbformat_minor": 2
}
