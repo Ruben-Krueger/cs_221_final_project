{
 "cells": [
  {
   "cell_type": "code",
   "execution_count": 3,
   "metadata": {},
   "outputs": [],
   "source": [
    "import sklearn\n",
    "import pandas as pd\n",
    "import numpy as np\n",
    "import seaborn as sb\n",
    "import matplotlib.pyplot as plt\n",
    "from collections import Counter\n",
    "from sklearn.linear_model import LinearRegression\n",
    "from sklearn.model_selection import train_test_split "
   ]
  },
  {
   "cell_type": "code",
   "execution_count": 4,
   "metadata": {},
   "outputs": [],
   "source": [
    "# read the data\n",
    "df = pd.read_csv('../data/data_full.csv',header=0)\n",
    "\n",
    "# convert sequence string into counts of amino acids\n",
    "for i in range(len(df.index)):\n",
    "    counter = Counter(df.iloc[i, 2])\n",
    "    for key in counter.keys():\n",
    "        df.at[i, key] = counter[key]\n",
    "    \n",
    "    \n",
    "# fill all NaN's with 0 \n",
    "df = df.fillna(0)\n",
    "\n",
    "protein_names = df['protein']"
   ]
  },
  {
   "cell_type": "code",
   "execution_count": 5,
   "metadata": {},
   "outputs": [],
   "source": [
    "# split into test and train data\n",
    "y = df['tm']\n",
    "X = df.drop(['sequence', 'tm', 'protein'], axis=1)\n",
    "\n",
    "xTrain, xTest, yTrain, yTest = train_test_split(X, y, test_size = 1/5, random_state = 0)"
   ]
  },
  {
   "cell_type": "code",
   "execution_count": 6,
   "metadata": {},
   "outputs": [
    {
     "data": {
      "text/plain": [
       "LinearRegression(copy_X=True, fit_intercept=True, n_jobs=None,\n",
       "         normalize=False)"
      ]
     },
     "execution_count": 6,
     "metadata": {},
     "output_type": "execute_result"
    }
   ],
   "source": [
    "# fit the model \n",
    "lr = LinearRegression()\n",
    "lr.fit(xTrain, yTrain)"
   ]
  },
  {
   "cell_type": "code",
   "execution_count": 7,
   "metadata": {},
   "outputs": [
    {
     "data": {
      "text/plain": [
       "-0.13625866539977616"
      ]
     },
     "execution_count": 7,
     "metadata": {},
     "output_type": "execute_result"
    }
   ],
   "source": [
    "# check accuracy \n",
    "lr.score(xTest, yTest)"
   ]
  },
  {
   "cell_type": "code",
   "execution_count": null,
   "metadata": {},
   "outputs": [],
   "source": []
  },
  {
   "cell_type": "code",
   "execution_count": null,
   "metadata": {},
   "outputs": [],
   "source": []
  },
  {
   "cell_type": "code",
   "execution_count": 11,
   "metadata": {},
   "outputs": [],
   "source": [
    "yPred = lr.predict(xTest)\n",
    "# plt.bar(data_y_pred, yTest, color='black')\n",
    "# plt.bar(y_pos, performance, align='center', alpha=0.5)\n",
    "\n",
    "x = list(range(8))\n",
    "\n",
    "# ax = plt.subplot(111)\n",
    "# ax.bar(x-0.2, yPred, width=0.2, color='b', align='center')\n",
    "# ax.bar(x+0.2, yTest, width=0.2,color='r', align='center')\n",
    "# plt.show()"
   ]
  },
  {
   "cell_type": "code",
   "execution_count": null,
   "metadata": {},
   "outputs": [],
   "source": []
  },
  {
   "cell_type": "code",
   "execution_count": null,
   "metadata": {},
   "outputs": [],
   "source": []
  }
 ],
 "metadata": {
  "kernelspec": {
   "display_name": "Python [default]",
   "language": "python",
   "name": "python3"
  },
  "language_info": {
   "codemirror_mode": {
    "name": "ipython",
    "version": 3
   },
   "file_extension": ".py",
   "mimetype": "text/x-python",
   "name": "python",
   "nbconvert_exporter": "python",
   "pygments_lexer": "ipython3",
   "version": "3.6.6"
  }
 },
 "nbformat": 4,
 "nbformat_minor": 2
}
