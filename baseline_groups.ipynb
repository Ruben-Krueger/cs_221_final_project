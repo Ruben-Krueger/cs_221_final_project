{
 "cells": [
  {
   "cell_type": "code",
   "execution_count": 11,
   "metadata": {
    "collapsed": true
   },
   "outputs": [],
   "source": [
    "import sklearn\n",
    "import pandas as pd\n",
    "import numpy as np\n",
    "import seaborn as sb\n",
    "import matplotlib.pyplot as plt\n",
    "from collections import Counter\n",
    "from sklearn.linear_model import LinearRegression\n",
    "from sklearn.model_selection import train_test_split "
   ]
  },
  {
   "cell_type": "code",
   "execution_count": 17,
   "metadata": {},
   "outputs": [
    {
     "name": "stdout",
     "output_type": "stream",
     "text": [
      "RangeIndex(start=0, stop=36, step=1)\n"
     ]
    }
   ],
   "source": [
    "# read the data\n",
    "df = pd.read_csv('data.csv',header=0)\n",
    "\n",
    "GROUP_SIZE = 4\n",
    "\n",
    "print(df.index)\n",
    "# MARK:- BASELINE 2\n",
    "counts = {}\n",
    "for i in range(len(df.index)):\n",
    "    individual_counts = {}\n",
    "    \n",
    "    seq = df.iloc[i, 2]\n",
    "    \n",
    "    for j in range(len(seq)):\n",
    "        if j > len(seq) - GROUP_SIZE: break\n",
    "        if individual_counts.get(seq[j:j+GROUP_SIZE], None) is None:\n",
    "            individual_counts[seq[j:j+GROUP_SIZE]] = 1\n",
    "        else: \n",
    "            individual_counts[seq[j:j+GROUP_SIZE]] += 1\n",
    "#     counts[df.iloc[i, 0]] = individual_counts\n",
    "    for key in individual_counts.keys():\n",
    "        df.at[i, key] = individual_counts[key]\n",
    "    \n",
    "# fill all NaN's with 0 \n",
    "df = df.fillna(0)\n",
    "\n",
    "protein_names = df['protein']"
   ]
  },
  {
   "cell_type": "code",
   "execution_count": 18,
   "metadata": {},
   "outputs": [
    {
     "name": "stdout",
     "output_type": "stream",
     "text": [
      "   protein   tm                                           sequence  KQFT  \\\n",
      "0     1ALC  298  KQFTKCELSQNLYDIDGYGRIALPELICTMFHTSGYDTQAIVENNE...   1.0   \n",
      "1     2LZM  324  MNIFEMLRIDERLRLKIYKDTEGYYTIGIGHLLTKSPSLNAAKSEL...   0.0   \n",
      "2     1ACP  326  MSTIEERVKKIIGEQLGVKQEEVTNNASFVEDLGADSLDTVELVMA...   0.0   \n",
      "3     6I1B  326  MAEVPELASEMMAYYSGNEDDLFFEADGPKQMKCSFQDLDLCPLDG...   0.0   \n",
      "4     1BNJ  327  MMKMEGIALKKRLSWISVCLLVLVSAAGMLFSTAAKTETSSHKAHT...   0.0   \n",
      "5     1ARR  327  MKGMSKMPQFNLRWPREVLDLVRKVAEENGRSVNSEIYQRVMESFK...   0.0   \n",
      "6     1STN  327  MLVMTEYLLSAGICMAIVSILLIGMAISNVSKGQYAKRFFFFATSC...   0.0   \n",
      "7     1BN1  328  MSHHWGYGKHNGPEHWHKDFPIAKGERQSPVDIDTHTAKYDPSLKP...   0.0   \n",
      "8     3RN3  332  MALKSLVLLSLLVLVLLLVRVQPSLGKETAAAKFERQHMDSSTSAA...   0.0   \n",
      "9     1ABE  332  MHKFTKALAAIGLAAVMSQSAMAENLKLGFLVKQPEEPWFQTEWKF...   0.0   \n",
      "10    1HRC  333  MGDVEKGKKIFVQKCAQCHTVEKGGKHKTGPNLHGLFGRKTGQAPG...   0.0   \n",
      "11    1LYS  333  MRSLLILVLCFLPLAALGKVFGRCELAAAMKRHGLDNYRGYSLGNW...   0.0   \n",
      "12    5CHA  333  CGVPAIQPVLSGLSRIVNGEEAVPGSWPWQVSLQDKTGFHFCGGSL...   0.0   \n",
      "13    2CAB  333  MASPDWGYDDKNGPEQWSKLYPIANGNNQSPVDIKTSETKHDTSLK...   0.0   \n",
      "14    9RNT  334  ACDYTCGSNCYSSSDVSTAQAAGYKLHEDGETVGSNSYPHKYNNYE...   0.0   \n",
      "15    1PMK  335  VQDCYHGDGQSYRGTSSTTTTGKKCQSWSSMTPHRHQKTPENYPNA...   0.0   \n",
      "16    5PEP  336  IGDEPLENYLDTEYFGTIGIGTPAQDFTVIFDTGSSNLWVPSVYCS...   0.0   \n",
      "17    1SHG  339  MDETGKELVLALYDYQEKSPREVTMKKGDILTLLNSTNKDWWKVEV...   0.0   \n",
      "18    3PSG  339  LVKVPLVRKKSLRQNLIKDGKLKDFLKTHKHNPASKYFPEAAALIG...   0.0   \n",
      "19    1BTA  343  KKAVINGEQIRSISDLHQTLKKELALPEYYGENLDALWDCLTGWVE...   0.0   \n",
      "20    2ZTA  343                 XRMKQLEDKVEELLSKNYHLENEVARLKKLVGER   0.0   \n",
      "21    1CYO  343  SKAVKYYTLEEIQKHNNSKSTWLILHYKVYDLTKFLEEHPGGEEVL...   0.0   \n",
      "22    2OVO  346  LAAVSVDCSEYPKPACTMEYRPLCGSDNKTYGNKCNFCNAVVESNG...   0.0   \n",
      "23    2HPR  346  AQKTFKVTADSGIHARPATVLVQTASKYDADVNLEYNGKTVNLKSI...   0.0   \n",
      "24    1COA  347  MKTEWPELVGKSVEEAKKVILQDKPEAQIIVLPVGTIVTMEYRIDR...   0.0   \n",
      "25    1PGX  352  MDPGDASELTPAVTTYKLVINGKTLKGETTTKAVDAETAEKAFKQY...   0.0   \n",
      "26    1LZ1  353  KVFERCELARTLKRLGMDGYRGISLANWMCLAKWESGYNTRATNYN...   0.0   \n",
      "27    9PAP  357  IPEYVDWRQKGAVTPVKNQGSCGSCWAFSAVVTIEGIIKIRTGNLN...   0.0   \n",
      "28    4MBN  358  VLSEGEWQLVLHVWAKVEADVAGHGQDILIRLFKSHPETLEKFDRF...   0.0   \n",
      "29    2TRX  360  SDKIIHLTDDSFDTDVLKADGAILVDFWAEWCGPCKMIAPILDEIA...   0.0   \n",
      "30    1UBQ  363  MQIFVKTLTGKTITLEVEPSDTIENVKAKIQDKEGIPPDQQRLIFA...   0.0   \n",
      "31    5CPV  363  XAFAGVLNDADIAAALEACKAADSFNHKAFFAKVGLTSKSADDVKK...   0.0   \n",
      "32    2WRP  363  AQQSPYSAAMAEQRHQEWLRFVDLLKNAYQNDLHLPLLNLMLTPDE...   0.0   \n",
      "33    1CYV  364  MIPGGLSEAKPATPEIQEIVDKVKPQLEEKTNETYGKLEAVQYKTQ...   0.0   \n",
      "34    1SAP  364  MVKVKFKYKGEEKEVDTSKIKKVWRVGKMVSFTYDDNGKTGRGAVS...   0.0   \n",
      "35    3AIT  366  DTTVSEPAPSCVTLYQSWRYSQADNGCAETVTVKVVYEDDTEGLCY...   0.0   \n",
      "\n",
      "    QFTK  FTKC  TKCE  KCEL  CELS  ELSQ  ...   GSHG  SHGH  HGHA  GHAR  HARY  \\\n",
      "0    1.0   1.0   1.0   1.0   1.0   1.0  ...    0.0   0.0   0.0   0.0   0.0   \n",
      "1    0.0   0.0   0.0   0.0   0.0   0.0  ...    0.0   0.0   0.0   0.0   0.0   \n",
      "2    0.0   0.0   0.0   0.0   0.0   0.0  ...    0.0   0.0   0.0   0.0   0.0   \n",
      "3    0.0   0.0   0.0   0.0   0.0   0.0  ...    0.0   0.0   0.0   0.0   0.0   \n",
      "4    0.0   0.0   0.0   0.0   0.0   0.0  ...    0.0   0.0   0.0   0.0   0.0   \n",
      "5    0.0   0.0   0.0   0.0   0.0   0.0  ...    0.0   0.0   0.0   0.0   0.0   \n",
      "6    0.0   0.0   0.0   0.0   0.0   0.0  ...    0.0   0.0   0.0   0.0   0.0   \n",
      "7    0.0   0.0   0.0   0.0   0.0   0.0  ...    0.0   0.0   0.0   0.0   0.0   \n",
      "8    0.0   0.0   0.0   0.0   0.0   0.0  ...    0.0   0.0   0.0   0.0   0.0   \n",
      "9    0.0   0.0   0.0   0.0   0.0   0.0  ...    0.0   0.0   0.0   0.0   0.0   \n",
      "10   0.0   0.0   0.0   0.0   0.0   0.0  ...    0.0   0.0   0.0   0.0   0.0   \n",
      "11   0.0   0.0   0.0   0.0   0.0   0.0  ...    0.0   0.0   0.0   0.0   0.0   \n",
      "12   0.0   0.0   0.0   0.0   0.0   0.0  ...    0.0   0.0   0.0   0.0   0.0   \n",
      "13   0.0   0.0   0.0   0.0   0.0   0.0  ...    0.0   0.0   0.0   0.0   0.0   \n",
      "14   0.0   0.0   0.0   0.0   0.0   0.0  ...    0.0   0.0   0.0   0.0   0.0   \n",
      "15   0.0   0.0   0.0   0.0   0.0   0.0  ...    0.0   0.0   0.0   0.0   0.0   \n",
      "16   0.0   0.0   0.0   0.0   0.0   0.0  ...    0.0   0.0   0.0   0.0   0.0   \n",
      "17   0.0   0.0   0.0   0.0   0.0   0.0  ...    0.0   0.0   0.0   0.0   0.0   \n",
      "18   0.0   0.0   0.0   0.0   0.0   0.0  ...    0.0   0.0   0.0   0.0   0.0   \n",
      "19   0.0   0.0   0.0   0.0   0.0   0.0  ...    0.0   0.0   0.0   0.0   0.0   \n",
      "20   0.0   0.0   0.0   0.0   0.0   0.0  ...    0.0   0.0   0.0   0.0   0.0   \n",
      "21   0.0   0.0   0.0   0.0   0.0   0.0  ...    0.0   0.0   0.0   0.0   0.0   \n",
      "22   0.0   0.0   0.0   0.0   0.0   0.0  ...    0.0   0.0   0.0   0.0   0.0   \n",
      "23   0.0   0.0   0.0   0.0   0.0   0.0  ...    0.0   0.0   0.0   0.0   0.0   \n",
      "24   0.0   0.0   0.0   0.0   0.0   0.0  ...    0.0   0.0   0.0   0.0   0.0   \n",
      "25   0.0   0.0   0.0   0.0   0.0   0.0  ...    0.0   0.0   0.0   0.0   0.0   \n",
      "26   0.0   0.0   0.0   0.0   0.0   0.0  ...    0.0   0.0   0.0   0.0   0.0   \n",
      "27   0.0   0.0   0.0   0.0   0.0   0.0  ...    0.0   0.0   0.0   0.0   0.0   \n",
      "28   0.0   0.0   0.0   0.0   0.0   0.0  ...    0.0   0.0   0.0   0.0   0.0   \n",
      "29   0.0   0.0   0.0   0.0   0.0   0.0  ...    0.0   0.0   0.0   0.0   0.0   \n",
      "30   0.0   0.0   0.0   0.0   0.0   0.0  ...    0.0   0.0   0.0   0.0   0.0   \n",
      "31   0.0   0.0   0.0   0.0   0.0   0.0  ...    0.0   0.0   0.0   0.0   0.0   \n",
      "32   0.0   0.0   0.0   0.0   0.0   0.0  ...    0.0   0.0   0.0   0.0   0.0   \n",
      "33   0.0   0.0   0.0   0.0   0.0   0.0  ...    0.0   0.0   0.0   0.0   0.0   \n",
      "34   0.0   0.0   0.0   0.0   0.0   0.0  ...    0.0   0.0   0.0   0.0   0.0   \n",
      "35   0.0   0.0   0.0   0.0   0.0   0.0  ...    1.0   1.0   1.0   1.0   1.0   \n",
      "\n",
      "    ARYL  RYLA  YLAR  LARC  ARCL  \n",
      "0    0.0   0.0   0.0   0.0   0.0  \n",
      "1    0.0   0.0   0.0   0.0   0.0  \n",
      "2    0.0   0.0   0.0   0.0   0.0  \n",
      "3    0.0   0.0   0.0   0.0   0.0  \n",
      "4    0.0   0.0   0.0   0.0   0.0  \n",
      "5    0.0   0.0   0.0   0.0   0.0  \n",
      "6    0.0   0.0   0.0   0.0   0.0  \n",
      "7    0.0   0.0   0.0   0.0   0.0  \n",
      "8    0.0   0.0   0.0   0.0   0.0  \n",
      "9    0.0   0.0   0.0   0.0   0.0  \n",
      "10   0.0   0.0   0.0   0.0   0.0  \n",
      "11   0.0   0.0   0.0   0.0   0.0  \n",
      "12   0.0   0.0   0.0   0.0   0.0  \n",
      "13   0.0   0.0   0.0   0.0   0.0  \n",
      "14   0.0   0.0   0.0   0.0   0.0  \n",
      "15   0.0   0.0   0.0   0.0   0.0  \n",
      "16   0.0   0.0   0.0   0.0   0.0  \n",
      "17   0.0   0.0   0.0   0.0   0.0  \n",
      "18   0.0   0.0   0.0   0.0   0.0  \n",
      "19   0.0   0.0   0.0   0.0   0.0  \n",
      "20   0.0   0.0   0.0   0.0   0.0  \n",
      "21   0.0   0.0   0.0   0.0   0.0  \n",
      "22   0.0   0.0   0.0   0.0   0.0  \n",
      "23   0.0   0.0   0.0   0.0   0.0  \n",
      "24   0.0   0.0   0.0   0.0   0.0  \n",
      "25   0.0   0.0   0.0   0.0   0.0  \n",
      "26   0.0   0.0   0.0   0.0   0.0  \n",
      "27   0.0   0.0   0.0   0.0   0.0  \n",
      "28   0.0   0.0   0.0   0.0   0.0  \n",
      "29   0.0   0.0   0.0   0.0   0.0  \n",
      "30   0.0   0.0   0.0   0.0   0.0  \n",
      "31   0.0   0.0   0.0   0.0   0.0  \n",
      "32   0.0   0.0   0.0   0.0   0.0  \n",
      "33   0.0   0.0   0.0   0.0   0.0  \n",
      "34   0.0   0.0   0.0   0.0   0.0  \n",
      "35   1.0   1.0   1.0   1.0   1.0  \n",
      "\n",
      "[36 rows x 4545 columns]\n"
     ]
    }
   ],
   "source": [
    "# split into test and train data\n",
    "y = df['tm']\n",
    "X = df.drop(['sequence', 'tm', 'protein'], axis=1)\n",
    "print(df)\n",
    "\n",
    "xTrain, xTest, yTrain, yTest = train_test_split(X, y, test_size = 1/5, random_state = 0)"
   ]
  },
  {
   "cell_type": "code",
   "execution_count": 19,
   "metadata": {},
   "outputs": [
    {
     "data": {
      "text/plain": [
       "LinearRegression(copy_X=True, fit_intercept=True, n_jobs=1, normalize=False)"
      ]
     },
     "execution_count": 19,
     "metadata": {},
     "output_type": "execute_result"
    }
   ],
   "source": [
    "# fit the model \n",
    "lr = LinearRegression()\n",
    "lr.fit(xTrain, yTrain)"
   ]
  },
  {
   "cell_type": "code",
   "execution_count": 20,
   "metadata": {},
   "outputs": [
    {
     "data": {
      "text/plain": [
       "0.016667969964157314"
      ]
     },
     "execution_count": 20,
     "metadata": {},
     "output_type": "execute_result"
    }
   ],
   "source": [
    "# check accuracy \n",
    "lr.score(xTest, yTest)"
   ]
  },
  {
   "cell_type": "code",
   "execution_count": 21,
   "metadata": {
    "collapsed": true
   },
   "outputs": [],
   "source": [
    "def predict(sequence):\n",
    "    counter = Counter(sequence)\n",
    "    print(counter)\n",
    "    print(lr.predict([list(counter)]))\n",
    "    "
   ]
  },
  {
   "cell_type": "code",
   "execution_count": 91,
   "metadata": {},
   "outputs": [
    {
     "ename": "KeyError",
     "evalue": "'TV'",
     "output_type": "error",
     "traceback": [
      "\u001b[0;31m---------------------------------------------------------------------------\u001b[0m",
      "\u001b[0;31mTypeError\u001b[0m                                 Traceback (most recent call last)",
      "\u001b[0;32mpandas/_libs/index.pyx\u001b[0m in \u001b[0;36mpandas._libs.index.IndexEngine.get_loc\u001b[0;34m()\u001b[0m\n",
      "\u001b[0;32mpandas/_libs/hashtable_class_helper.pxi\u001b[0m in \u001b[0;36mpandas._libs.hashtable.Int64HashTable.get_item\u001b[0;34m()\u001b[0m\n",
      "\u001b[0;31mTypeError\u001b[0m: an integer is required",
      "\nDuring handling of the above exception, another exception occurred:\n",
      "\u001b[0;31mKeyError\u001b[0m                                  Traceback (most recent call last)",
      "\u001b[0;32m<ipython-input-91-b3ecb900a9c2>\u001b[0m in \u001b[0;36m<module>\u001b[0;34m()\u001b[0m\n\u001b[1;32m      1\u001b[0m \u001b[0;31m# visualize the relationship between the features and the response using scatterplots\u001b[0m\u001b[0;34m\u001b[0m\u001b[0;34m\u001b[0m\u001b[0m\n\u001b[0;32m----> 2\u001b[0;31m \u001b[0msb\u001b[0m\u001b[0;34m.\u001b[0m\u001b[0mpairplot\u001b[0m\u001b[0;34m(\u001b[0m\u001b[0myTest\u001b[0m\u001b[0;34m,\u001b[0m \u001b[0mx_vars\u001b[0m\u001b[0;34m=\u001b[0m\u001b[0;34m[\u001b[0m\u001b[0;34m'TV'\u001b[0m\u001b[0;34m,\u001b[0m\u001b[0;34m'Radio'\u001b[0m\u001b[0;34m,\u001b[0m\u001b[0;34m'Newspaper'\u001b[0m\u001b[0;34m]\u001b[0m\u001b[0;34m,\u001b[0m \u001b[0my_vars\u001b[0m\u001b[0;34m=\u001b[0m\u001b[0;34m'Sales'\u001b[0m\u001b[0;34m,\u001b[0m \u001b[0msize\u001b[0m\u001b[0;34m=\u001b[0m\u001b[0;36m7\u001b[0m\u001b[0;34m,\u001b[0m \u001b[0maspect\u001b[0m\u001b[0;34m=\u001b[0m\u001b[0;36m0.7\u001b[0m\u001b[0;34m)\u001b[0m\u001b[0;34m\u001b[0m\u001b[0m\n\u001b[0m",
      "\u001b[0;32m~/anaconda3/lib/python3.6/site-packages/seaborn/axisgrid.py\u001b[0m in \u001b[0;36mpairplot\u001b[0;34m(data, hue, hue_order, palette, vars, x_vars, y_vars, kind, diag_kind, markers, size, aspect, dropna, plot_kws, diag_kws, grid_kws)\u001b[0m\n\u001b[1;32m   2049\u001b[0m     \u001b[0;32mif\u001b[0m \u001b[0mkind\u001b[0m \u001b[0;34m==\u001b[0m \u001b[0;34m\"scatter\"\u001b[0m\u001b[0;34m:\u001b[0m\u001b[0;34m\u001b[0m\u001b[0m\n\u001b[1;32m   2050\u001b[0m         \u001b[0mplot_kws\u001b[0m\u001b[0;34m.\u001b[0m\u001b[0msetdefault\u001b[0m\u001b[0;34m(\u001b[0m\u001b[0;34m\"edgecolor\"\u001b[0m\u001b[0;34m,\u001b[0m \u001b[0;34m\"white\"\u001b[0m\u001b[0;34m)\u001b[0m\u001b[0;34m\u001b[0m\u001b[0m\n\u001b[0;32m-> 2051\u001b[0;31m         \u001b[0mplotter\u001b[0m\u001b[0;34m(\u001b[0m\u001b[0mplt\u001b[0m\u001b[0;34m.\u001b[0m\u001b[0mscatter\u001b[0m\u001b[0;34m,\u001b[0m \u001b[0;34m**\u001b[0m\u001b[0mplot_kws\u001b[0m\u001b[0;34m)\u001b[0m\u001b[0;34m\u001b[0m\u001b[0m\n\u001b[0m\u001b[1;32m   2052\u001b[0m     \u001b[0;32melif\u001b[0m \u001b[0mkind\u001b[0m \u001b[0;34m==\u001b[0m \u001b[0;34m\"reg\"\u001b[0m\u001b[0;34m:\u001b[0m\u001b[0;34m\u001b[0m\u001b[0m\n\u001b[1;32m   2053\u001b[0m         \u001b[0;32mfrom\u001b[0m \u001b[0;34m.\u001b[0m\u001b[0mregression\u001b[0m \u001b[0;32mimport\u001b[0m \u001b[0mregplot\u001b[0m  \u001b[0;31m# Avoid circular import\u001b[0m\u001b[0;34m\u001b[0m\u001b[0m\n",
      "\u001b[0;32m~/anaconda3/lib/python3.6/site-packages/seaborn/axisgrid.py\u001b[0m in \u001b[0;36mmap\u001b[0;34m(self, func, **kwargs)\u001b[0m\n\u001b[1;32m   1289\u001b[0m \u001b[0;34m\u001b[0m\u001b[0m\n\u001b[1;32m   1290\u001b[0m                     \u001b[0mcolor\u001b[0m \u001b[0;34m=\u001b[0m \u001b[0mself\u001b[0m\u001b[0;34m.\u001b[0m\u001b[0mpalette\u001b[0m\u001b[0;34m[\u001b[0m\u001b[0mk\u001b[0m\u001b[0;34m]\u001b[0m \u001b[0;32mif\u001b[0m \u001b[0mkw_color\u001b[0m \u001b[0;32mis\u001b[0m \u001b[0;32mNone\u001b[0m \u001b[0;32melse\u001b[0m \u001b[0mkw_color\u001b[0m\u001b[0;34m\u001b[0m\u001b[0m\n\u001b[0;32m-> 1291\u001b[0;31m                     func(data_k[x_var], data_k[y_var],\n\u001b[0m\u001b[1;32m   1292\u001b[0m                          label=label_k, color=color, **kwargs)\n\u001b[1;32m   1293\u001b[0m \u001b[0;34m\u001b[0m\u001b[0m\n",
      "\u001b[0;32m~/anaconda3/lib/python3.6/site-packages/pandas/core/series.py\u001b[0m in \u001b[0;36m__getitem__\u001b[0;34m(self, key)\u001b[0m\n\u001b[1;32m    599\u001b[0m         \u001b[0mkey\u001b[0m \u001b[0;34m=\u001b[0m \u001b[0mcom\u001b[0m\u001b[0;34m.\u001b[0m\u001b[0m_apply_if_callable\u001b[0m\u001b[0;34m(\u001b[0m\u001b[0mkey\u001b[0m\u001b[0;34m,\u001b[0m \u001b[0mself\u001b[0m\u001b[0;34m)\u001b[0m\u001b[0;34m\u001b[0m\u001b[0m\n\u001b[1;32m    600\u001b[0m         \u001b[0;32mtry\u001b[0m\u001b[0;34m:\u001b[0m\u001b[0;34m\u001b[0m\u001b[0m\n\u001b[0;32m--> 601\u001b[0;31m             \u001b[0mresult\u001b[0m \u001b[0;34m=\u001b[0m \u001b[0mself\u001b[0m\u001b[0;34m.\u001b[0m\u001b[0mindex\u001b[0m\u001b[0;34m.\u001b[0m\u001b[0mget_value\u001b[0m\u001b[0;34m(\u001b[0m\u001b[0mself\u001b[0m\u001b[0;34m,\u001b[0m \u001b[0mkey\u001b[0m\u001b[0;34m)\u001b[0m\u001b[0;34m\u001b[0m\u001b[0m\n\u001b[0m\u001b[1;32m    602\u001b[0m \u001b[0;34m\u001b[0m\u001b[0m\n\u001b[1;32m    603\u001b[0m             \u001b[0;32mif\u001b[0m \u001b[0;32mnot\u001b[0m \u001b[0mis_scalar\u001b[0m\u001b[0;34m(\u001b[0m\u001b[0mresult\u001b[0m\u001b[0;34m)\u001b[0m\u001b[0;34m:\u001b[0m\u001b[0;34m\u001b[0m\u001b[0m\n",
      "\u001b[0;32m~/anaconda3/lib/python3.6/site-packages/pandas/core/indexes/base.py\u001b[0m in \u001b[0;36mget_value\u001b[0;34m(self, series, key)\u001b[0m\n\u001b[1;32m   2475\u001b[0m         \u001b[0;32mtry\u001b[0m\u001b[0;34m:\u001b[0m\u001b[0;34m\u001b[0m\u001b[0m\n\u001b[1;32m   2476\u001b[0m             return self._engine.get_value(s, k,\n\u001b[0;32m-> 2477\u001b[0;31m                                           tz=getattr(series.dtype, 'tz', None))\n\u001b[0m\u001b[1;32m   2478\u001b[0m         \u001b[0;32mexcept\u001b[0m \u001b[0mKeyError\u001b[0m \u001b[0;32mas\u001b[0m \u001b[0me1\u001b[0m\u001b[0;34m:\u001b[0m\u001b[0;34m\u001b[0m\u001b[0m\n\u001b[1;32m   2479\u001b[0m             \u001b[0;32mif\u001b[0m \u001b[0mlen\u001b[0m\u001b[0;34m(\u001b[0m\u001b[0mself\u001b[0m\u001b[0;34m)\u001b[0m \u001b[0;34m>\u001b[0m \u001b[0;36m0\u001b[0m \u001b[0;32mand\u001b[0m \u001b[0mself\u001b[0m\u001b[0;34m.\u001b[0m\u001b[0minferred_type\u001b[0m \u001b[0;32min\u001b[0m \u001b[0;34m[\u001b[0m\u001b[0;34m'integer'\u001b[0m\u001b[0;34m,\u001b[0m \u001b[0;34m'boolean'\u001b[0m\u001b[0;34m]\u001b[0m\u001b[0;34m:\u001b[0m\u001b[0;34m\u001b[0m\u001b[0m\n",
      "\u001b[0;32mpandas/_libs/index.pyx\u001b[0m in \u001b[0;36mpandas._libs.index.IndexEngine.get_value\u001b[0;34m()\u001b[0m\n",
      "\u001b[0;32mpandas/_libs/index.pyx\u001b[0m in \u001b[0;36mpandas._libs.index.IndexEngine.get_value\u001b[0;34m()\u001b[0m\n",
      "\u001b[0;32mpandas/_libs/index.pyx\u001b[0m in \u001b[0;36mpandas._libs.index.IndexEngine.get_loc\u001b[0;34m()\u001b[0m\n",
      "\u001b[0;31mKeyError\u001b[0m: 'TV'"
     ]
    }
   ],
   "source": [
    "# visualize the relationship between the features and the response using scatterplots\n",
    "sb.pairplot(yTest, x_vars=['TV','Radio','Newspaper'], y_vars='Sales', size=7, aspect=0.7)"
   ]
  },
  {
   "cell_type": "code",
   "execution_count": null,
   "metadata": {
    "collapsed": true
   },
   "outputs": [],
   "source": [
    "data_y_pred = lr.predict(xTest)\n",
    "print(data_y_pred)\n",
    "#plt.scatter(xTest, yTest, color='black')"
   ]
  },
  {
   "cell_type": "code",
   "execution_count": null,
   "metadata": {
    "collapsed": true
   },
   "outputs": [],
   "source": []
  },
  {
   "cell_type": "code",
   "execution_count": null,
   "metadata": {
    "collapsed": true
   },
   "outputs": [],
   "source": []
  },
  {
   "cell_type": "code",
   "execution_count": null,
   "metadata": {
    "collapsed": true
   },
   "outputs": [],
   "source": []
  },
  {
   "cell_type": "code",
   "execution_count": null,
   "metadata": {
    "collapsed": true
   },
   "outputs": [],
   "source": []
  },
  {
   "cell_type": "code",
   "execution_count": null,
   "metadata": {
    "collapsed": true
   },
   "outputs": [],
   "source": []
  }
 ],
 "metadata": {
  "kernelspec": {
   "display_name": "Python 3",
   "language": "python",
   "name": "python3"
  },
  "language_info": {
   "codemirror_mode": {
    "name": "ipython",
    "version": 3
   },
   "file_extension": ".py",
   "mimetype": "text/x-python",
   "name": "python",
   "nbconvert_exporter": "python",
   "pygments_lexer": "ipython3",
   "version": "3.6.3"
  }
 },
 "nbformat": 4,
 "nbformat_minor": 2
}
