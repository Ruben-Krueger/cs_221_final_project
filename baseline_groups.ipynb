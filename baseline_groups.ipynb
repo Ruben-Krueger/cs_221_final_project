{
 "cells": [
  {
   "cell_type": "code",
   "execution_count": 2,
   "metadata": {},
   "outputs": [],
   "source": [
    "import sklearn\n",
    "import pandas as pd\n",
    "import numpy as np\n",
    "import seaborn as sb\n",
    "import matplotlib.pyplot as plt\n",
    "from collections import Counter\n",
    "from sklearn.linear_model import LinearRegression\n",
    "from sklearn.model_selection import train_test_split "
   ]
  },
  {
   "cell_type": "code",
   "execution_count": 3,
   "metadata": {},
   "outputs": [
    {
     "name": "stdout",
     "output_type": "stream",
     "text": [
      "RangeIndex(start=0, stop=36, step=1)\n"
     ]
    }
   ],
   "source": [
    "# read the data\n",
    "df = pd.read_csv('data/data.csv',header=0)\n",
    "\n",
    "GROUP_SIZE = 4\n",
    "\n",
    "print(df.index)\n",
    "# MARK:- BASELINE 2\n",
    "counts = {}\n",
    "for i in range(len(df.index)):\n",
    "    individual_counts = {}\n",
    "    \n",
    "    seq = df.iloc[i, 2]\n",
    "    \n",
    "    for j in range(len(seq)):\n",
    "        if j > len(seq) - GROUP_SIZE: break\n",
    "        if individual_counts.get(seq[j:j+GROUP_SIZE], None) is None:\n",
    "            individual_counts[seq[j:j+GROUP_SIZE]] = 1\n",
    "        else: \n",
    "            individual_counts[seq[j:j+GROUP_SIZE]] += 1\n",
    "#     counts[df.iloc[i, 0]] = individual_counts\n",
    "    for key in individual_counts.keys():\n",
    "        df.at[i, key] = individual_counts[key]\n",
    "    \n",
    "# fill all NaN's with 0 \n",
    "df = df.fillna(0)\n",
    "\n",
    "protein_names = df['protein']"
   ]
  },
  {
   "cell_type": "code",
   "execution_count": 4,
   "metadata": {},
   "outputs": [
    {
     "name": "stdout",
     "output_type": "stream",
     "text": [
      "   protein   tm                                           sequence  KQFT  \\\n",
      "0     1ALC  298  KQFTKCELSQNLYDIDGYGRIALPELICTMFHTSGYDTQAIVENNE...   1.0   \n",
      "1     2LZM  324  MNIFEMLRIDERLRLKIYKDTEGYYTIGIGHLLTKSPSLNAAKSEL...   0.0   \n",
      "2     1ACP  326  MSTIEERVKKIIGEQLGVKQEEVTNNASFVEDLGADSLDTVELVMA...   0.0   \n",
      "3     6I1B  326  MAEVPELASEMMAYYSGNEDDLFFEADGPKQMKCSFQDLDLCPLDG...   0.0   \n",
      "4     1BNJ  327  MMKMEGIALKKRLSWISVCLLVLVSAAGMLFSTAAKTETSSHKAHT...   0.0   \n",
      "5     1ARR  327  MKGMSKMPQFNLRWPREVLDLVRKVAEENGRSVNSEIYQRVMESFK...   0.0   \n",
      "6     1STN  327  MLVMTEYLLSAGICMAIVSILLIGMAISNVSKGQYAKRFFFFATSC...   0.0   \n",
      "7     1BN1  328  MSHHWGYGKHNGPEHWHKDFPIAKGERQSPVDIDTHTAKYDPSLKP...   0.0   \n",
      "8     3RN3  332  MALKSLVLLSLLVLVLLLVRVQPSLGKETAAAKFERQHMDSSTSAA...   0.0   \n",
      "9     1ABE  332  MHKFTKALAAIGLAAVMSQSAMAENLKLGFLVKQPEEPWFQTEWKF...   0.0   \n",
      "10    1HRC  333  MGDVEKGKKIFVQKCAQCHTVEKGGKHKTGPNLHGLFGRKTGQAPG...   0.0   \n",
      "11    1LYS  333  MRSLLILVLCFLPLAALGKVFGRCELAAAMKRHGLDNYRGYSLGNW...   0.0   \n",
      "12    5CHA  333  CGVPAIQPVLSGLSRIVNGEEAVPGSWPWQVSLQDKTGFHFCGGSL...   0.0   \n",
      "13    2CAB  333  MASPDWGYDDKNGPEQWSKLYPIANGNNQSPVDIKTSETKHDTSLK...   0.0   \n",
      "14    9RNT  334  ACDYTCGSNCYSSSDVSTAQAAGYKLHEDGETVGSNSYPHKYNNYE...   0.0   \n",
      "15    1PMK  335  VQDCYHGDGQSYRGTSSTTTTGKKCQSWSSMTPHRHQKTPENYPNA...   0.0   \n",
      "16    5PEP  336  IGDEPLENYLDTEYFGTIGIGTPAQDFTVIFDTGSSNLWVPSVYCS...   0.0   \n",
      "17    1SHG  339  MDETGKELVLALYDYQEKSPREVTMKKGDILTLLNSTNKDWWKVEV...   0.0   \n",
      "18    3PSG  339  LVKVPLVRKKSLRQNLIKDGKLKDFLKTHKHNPASKYFPEAAALIG...   0.0   \n",
      "19    1BTA  343  KKAVINGEQIRSISDLHQTLKKELALPEYYGENLDALWDCLTGWVE...   0.0   \n",
      "20    2ZTA  343                 XRMKQLEDKVEELLSKNYHLENEVARLKKLVGER   0.0   \n",
      "21    1CYO  343  SKAVKYYTLEEIQKHNNSKSTWLILHYKVYDLTKFLEEHPGGEEVL...   0.0   \n",
      "22    2OVO  346  LAAVSVDCSEYPKPACTMEYRPLCGSDNKTYGNKCNFCNAVVESNG...   0.0   \n",
      "23    2HPR  346  AQKTFKVTADSGIHARPATVLVQTASKYDADVNLEYNGKTVNLKSI...   0.0   \n",
      "24    1COA  347  MKTEWPELVGKSVEEAKKVILQDKPEAQIIVLPVGTIVTMEYRIDR...   0.0   \n",
      "25    1PGX  352  MDPGDASELTPAVTTYKLVINGKTLKGETTTKAVDAETAEKAFKQY...   0.0   \n",
      "26    1LZ1  353  KVFERCELARTLKRLGMDGYRGISLANWMCLAKWESGYNTRATNYN...   0.0   \n",
      "27    9PAP  357  IPEYVDWRQKGAVTPVKNQGSCGSCWAFSAVVTIEGIIKIRTGNLN...   0.0   \n",
      "28    4MBN  358  VLSEGEWQLVLHVWAKVEADVAGHGQDILIRLFKSHPETLEKFDRF...   0.0   \n",
      "29    2TRX  360  SDKIIHLTDDSFDTDVLKADGAILVDFWAEWCGPCKMIAPILDEIA...   0.0   \n",
      "30    1UBQ  363  MQIFVKTLTGKTITLEVEPSDTIENVKAKIQDKEGIPPDQQRLIFA...   0.0   \n",
      "31    5CPV  363  XAFAGVLNDADIAAALEACKAADSFNHKAFFAKVGLTSKSADDVKK...   0.0   \n",
      "32    2WRP  363  AQQSPYSAAMAEQRHQEWLRFVDLLKNAYQNDLHLPLLNLMLTPDE...   0.0   \n",
      "33    1CYV  364  MIPGGLSEAKPATPEIQEIVDKVKPQLEEKTNETYGKLEAVQYKTQ...   0.0   \n",
      "34    1SAP  364  MVKVKFKYKGEEKEVDTSKIKKVWRVGKMVSFTYDDNGKTGRGAVS...   0.0   \n",
      "35    3AIT  366  DTTVSEPAPSCVTLYQSWRYSQADNGCAETVTVKVVYEDDTEGLCY...   0.0   \n",
      "\n",
      "    QFTK  FTKC  TKCE  KCEL  CELS  ELSQ  ...   GSHG  SHGH  HGHA  GHAR  HARY  \\\n",
      "0    1.0   1.0   1.0   1.0   1.0   1.0  ...    0.0   0.0   0.0   0.0   0.0   \n",
      "1    0.0   0.0   0.0   0.0   0.0   0.0  ...    0.0   0.0   0.0   0.0   0.0   \n",
      "2    0.0   0.0   0.0   0.0   0.0   0.0  ...    0.0   0.0   0.0   0.0   0.0   \n",
      "3    0.0   0.0   0.0   0.0   0.0   0.0  ...    0.0   0.0   0.0   0.0   0.0   \n",
      "4    0.0   0.0   0.0   0.0   0.0   0.0  ...    0.0   0.0   0.0   0.0   0.0   \n",
      "5    0.0   0.0   0.0   0.0   0.0   0.0  ...    0.0   0.0   0.0   0.0   0.0   \n",
      "6    0.0   0.0   0.0   0.0   0.0   0.0  ...    0.0   0.0   0.0   0.0   0.0   \n",
      "7    0.0   0.0   0.0   0.0   0.0   0.0  ...    0.0   0.0   0.0   0.0   0.0   \n",
      "8    0.0   0.0   0.0   0.0   0.0   0.0  ...    0.0   0.0   0.0   0.0   0.0   \n",
      "9    0.0   0.0   0.0   0.0   0.0   0.0  ...    0.0   0.0   0.0   0.0   0.0   \n",
      "10   0.0   0.0   0.0   0.0   0.0   0.0  ...    0.0   0.0   0.0   0.0   0.0   \n",
      "11   0.0   0.0   0.0   0.0   0.0   0.0  ...    0.0   0.0   0.0   0.0   0.0   \n",
      "12   0.0   0.0   0.0   0.0   0.0   0.0  ...    0.0   0.0   0.0   0.0   0.0   \n",
      "13   0.0   0.0   0.0   0.0   0.0   0.0  ...    0.0   0.0   0.0   0.0   0.0   \n",
      "14   0.0   0.0   0.0   0.0   0.0   0.0  ...    0.0   0.0   0.0   0.0   0.0   \n",
      "15   0.0   0.0   0.0   0.0   0.0   0.0  ...    0.0   0.0   0.0   0.0   0.0   \n",
      "16   0.0   0.0   0.0   0.0   0.0   0.0  ...    0.0   0.0   0.0   0.0   0.0   \n",
      "17   0.0   0.0   0.0   0.0   0.0   0.0  ...    0.0   0.0   0.0   0.0   0.0   \n",
      "18   0.0   0.0   0.0   0.0   0.0   0.0  ...    0.0   0.0   0.0   0.0   0.0   \n",
      "19   0.0   0.0   0.0   0.0   0.0   0.0  ...    0.0   0.0   0.0   0.0   0.0   \n",
      "20   0.0   0.0   0.0   0.0   0.0   0.0  ...    0.0   0.0   0.0   0.0   0.0   \n",
      "21   0.0   0.0   0.0   0.0   0.0   0.0  ...    0.0   0.0   0.0   0.0   0.0   \n",
      "22   0.0   0.0   0.0   0.0   0.0   0.0  ...    0.0   0.0   0.0   0.0   0.0   \n",
      "23   0.0   0.0   0.0   0.0   0.0   0.0  ...    0.0   0.0   0.0   0.0   0.0   \n",
      "24   0.0   0.0   0.0   0.0   0.0   0.0  ...    0.0   0.0   0.0   0.0   0.0   \n",
      "25   0.0   0.0   0.0   0.0   0.0   0.0  ...    0.0   0.0   0.0   0.0   0.0   \n",
      "26   0.0   0.0   0.0   0.0   0.0   0.0  ...    0.0   0.0   0.0   0.0   0.0   \n",
      "27   0.0   0.0   0.0   0.0   0.0   0.0  ...    0.0   0.0   0.0   0.0   0.0   \n",
      "28   0.0   0.0   0.0   0.0   0.0   0.0  ...    0.0   0.0   0.0   0.0   0.0   \n",
      "29   0.0   0.0   0.0   0.0   0.0   0.0  ...    0.0   0.0   0.0   0.0   0.0   \n",
      "30   0.0   0.0   0.0   0.0   0.0   0.0  ...    0.0   0.0   0.0   0.0   0.0   \n",
      "31   0.0   0.0   0.0   0.0   0.0   0.0  ...    0.0   0.0   0.0   0.0   0.0   \n",
      "32   0.0   0.0   0.0   0.0   0.0   0.0  ...    0.0   0.0   0.0   0.0   0.0   \n",
      "33   0.0   0.0   0.0   0.0   0.0   0.0  ...    0.0   0.0   0.0   0.0   0.0   \n",
      "34   0.0   0.0   0.0   0.0   0.0   0.0  ...    0.0   0.0   0.0   0.0   0.0   \n",
      "35   0.0   0.0   0.0   0.0   0.0   0.0  ...    1.0   1.0   1.0   1.0   1.0   \n",
      "\n",
      "    ARYL  RYLA  YLAR  LARC  ARCL  \n",
      "0    0.0   0.0   0.0   0.0   0.0  \n",
      "1    0.0   0.0   0.0   0.0   0.0  \n",
      "2    0.0   0.0   0.0   0.0   0.0  \n",
      "3    0.0   0.0   0.0   0.0   0.0  \n",
      "4    0.0   0.0   0.0   0.0   0.0  \n",
      "5    0.0   0.0   0.0   0.0   0.0  \n",
      "6    0.0   0.0   0.0   0.0   0.0  \n",
      "7    0.0   0.0   0.0   0.0   0.0  \n",
      "8    0.0   0.0   0.0   0.0   0.0  \n",
      "9    0.0   0.0   0.0   0.0   0.0  \n",
      "10   0.0   0.0   0.0   0.0   0.0  \n",
      "11   0.0   0.0   0.0   0.0   0.0  \n",
      "12   0.0   0.0   0.0   0.0   0.0  \n",
      "13   0.0   0.0   0.0   0.0   0.0  \n",
      "14   0.0   0.0   0.0   0.0   0.0  \n",
      "15   0.0   0.0   0.0   0.0   0.0  \n",
      "16   0.0   0.0   0.0   0.0   0.0  \n",
      "17   0.0   0.0   0.0   0.0   0.0  \n",
      "18   0.0   0.0   0.0   0.0   0.0  \n",
      "19   0.0   0.0   0.0   0.0   0.0  \n",
      "20   0.0   0.0   0.0   0.0   0.0  \n",
      "21   0.0   0.0   0.0   0.0   0.0  \n",
      "22   0.0   0.0   0.0   0.0   0.0  \n",
      "23   0.0   0.0   0.0   0.0   0.0  \n",
      "24   0.0   0.0   0.0   0.0   0.0  \n",
      "25   0.0   0.0   0.0   0.0   0.0  \n",
      "26   0.0   0.0   0.0   0.0   0.0  \n",
      "27   0.0   0.0   0.0   0.0   0.0  \n",
      "28   0.0   0.0   0.0   0.0   0.0  \n",
      "29   0.0   0.0   0.0   0.0   0.0  \n",
      "30   0.0   0.0   0.0   0.0   0.0  \n",
      "31   0.0   0.0   0.0   0.0   0.0  \n",
      "32   0.0   0.0   0.0   0.0   0.0  \n",
      "33   0.0   0.0   0.0   0.0   0.0  \n",
      "34   0.0   0.0   0.0   0.0   0.0  \n",
      "35   1.0   1.0   1.0   1.0   1.0  \n",
      "\n",
      "[36 rows x 4545 columns]\n"
     ]
    }
   ],
   "source": [
    "# split into test and train data\n",
    "y = df['tm']\n",
    "X = df.drop(['sequence', 'tm', 'protein'], axis=1)\n",
    "print(df)\n",
    "\n",
    "xTrain, xTest, yTrain, yTest = train_test_split(X, y, test_size = 1/5, random_state = 0)"
   ]
  },
  {
   "cell_type": "code",
   "execution_count": 19,
   "metadata": {},
   "outputs": [
    {
     "data": {
      "text/plain": [
       "LinearRegression(copy_X=True, fit_intercept=True, n_jobs=1, normalize=False)"
      ]
     },
     "execution_count": 19,
     "metadata": {},
     "output_type": "execute_result"
    }
   ],
   "source": [
    "# fit the model \n",
    "lr = LinearRegression()\n",
    "lr.fit(xTrain, yTrain)"
   ]
  },
  {
   "cell_type": "code",
   "execution_count": 20,
   "metadata": {},
   "outputs": [
    {
     "data": {
      "text/plain": [
       "0.016667969964157314"
      ]
     },
     "execution_count": 20,
     "metadata": {},
     "output_type": "execute_result"
    }
   ],
   "source": [
    "# check accuracy \n",
    "lr.score(xTest, yTest)"
   ]
  },
  {
   "cell_type": "code",
   "execution_count": null,
   "metadata": {},
   "outputs": [],
   "source": []
  }
 ],
 "metadata": {
  "kernelspec": {
   "display_name": "Python [default]",
   "language": "python",
   "name": "python3"
  },
  "language_info": {
   "codemirror_mode": {
    "name": "ipython",
    "version": 3
   },
   "file_extension": ".py",
   "mimetype": "text/x-python",
   "name": "python",
   "nbconvert_exporter": "python",
   "pygments_lexer": "ipython3",
   "version": "3.6.6"
  }
 },
 "nbformat": 4,
 "nbformat_minor": 2
}
